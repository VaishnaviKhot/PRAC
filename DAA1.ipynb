{
 "cells": [
  {
   "cell_type": "code",
   "execution_count": 2,
   "id": "84020352",
   "metadata": {},
   "outputs": [],
   "source": [
    "def fibonacci_iterative(n):\n",
    "    if n <= 1:\n",
    "        return n\n",
    "    a, b = 0, 1\n",
    "    for _ in range(2, n + 1):\n",
    "        a, b = b, a + b\n",
    "    return b"
   ]
  },
  {
   "cell_type": "code",
   "execution_count": null,
   "id": "af84aa0d",
   "metadata": {},
   "outputs": [],
   "source": []
  },
  {
   "cell_type": "code",
   "execution_count": 3,
   "id": "a6e258c2",
   "metadata": {},
   "outputs": [],
   "source": [
    "def fibonacci_recursive(n):\n",
    "    if n <= 1:\n",
    "        return n\n",
    "    return fibonacci_recursive(n - 1) + fibonacci_recursive(n - 2)\n"
   ]
  },
  {
   "cell_type": "code",
   "execution_count": 4,
   "id": "fab24c7c",
   "metadata": {},
   "outputs": [
    {
     "name": "stdout",
     "output_type": "stream",
     "text": [
      "The 10th Fibonacci number (Iterative): 55\n",
      "The 10th Fibonacci number (Recursive): 55\n"
     ]
    }
   ],
   "source": [
    "# Calculating the 10th Fibonacci number using both methods\n",
    "n = 10\n",
    "result_iterative = fibonacci_iterative(n)\n",
    "result_recursive = fibonacci_recursive(n)\n",
    "\n",
    "print(f\"The 10th Fibonacci number (Iterative): {result_iterative}\")\n",
    "print(f\"The 10th Fibonacci number (Recursive): {result_recursive}\")\n"
   ]
  },
  {
   "cell_type": "code",
   "execution_count": null,
   "id": "370348e6",
   "metadata": {},
   "outputs": [],
   "source": []
  }
 ],
 "metadata": {
  "kernelspec": {
   "display_name": "Python 3 (ipykernel)",
   "language": "python",
   "name": "python3"
  },
  "language_info": {
   "codemirror_mode": {
    "name": "ipython",
    "version": 3
   },
   "file_extension": ".py",
   "mimetype": "text/x-python",
   "name": "python",
   "nbconvert_exporter": "python",
   "pygments_lexer": "ipython3",
   "version": "3.10.6"
  }
 },
 "nbformat": 4,
 "nbformat_minor": 5
}
