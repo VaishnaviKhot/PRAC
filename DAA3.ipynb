{
 "cells": [
  {
   "cell_type": "code",
   "execution_count": 1,
   "id": "17ff27ed",
   "metadata": {},
   "outputs": [
    {
     "name": "stdout",
     "output_type": "stream",
     "text": [
      "The maximum value that can be obtained is: 240.0\n"
     ]
    }
   ],
   "source": [
    "# Function to solve the fractional knapsack problem\n",
    "def fractional_knapsack(capacity, weights, values):\n",
    "    # Calculate value-to-weight ratios for each item\n",
    "    value_per_weight = [(values[i] / weights[i], weights[i], values[i]) for i in range(len(values))]\n",
    "\n",
    "    # Sort items based on their value-to-weight ratio in descending order\n",
    "    value_per_weight.sort(reverse=True)\n",
    "\n",
    "    max_value = 0  # Maximum value in the knapsack\n",
    "    current_weight = 0  # Current weight in the knapsack\n",
    "\n",
    "    for value_ratio, weight, value in value_per_weight:\n",
    "        if current_weight + weight <= capacity:  # If the whole item fits\n",
    "            max_value += value\n",
    "            current_weight += weight\n",
    "        else:  # If the whole item doesn't fit, take a fraction\n",
    "            remaining_capacity = capacity - current_weight\n",
    "            max_value += value_ratio * remaining_capacity\n",
    "            break  # Knapsack is full\n",
    "\n",
    "    return max_value\n",
    "\n",
    "# Example usage\n",
    "capacity = 50  # Capacity of the knapsack\n",
    "weights = [10, 20, 30]  # Weights of items\n",
    "values = [60, 100, 120]  # Values of items\n",
    "\n",
    "max_value = fractional_knapsack(capacity, weights, values)\n",
    "print(f\"The maximum value that can be obtained is: {max_value}\")\n"
   ]
  },
  {
   "cell_type": "code",
   "execution_count": null,
   "id": "28766700",
   "metadata": {},
   "outputs": [],
   "source": []
  }
 ],
 "metadata": {
  "kernelspec": {
   "display_name": "Python 3 (ipykernel)",
   "language": "python",
   "name": "python3"
  },
  "language_info": {
   "codemirror_mode": {
    "name": "ipython",
    "version": 3
   },
   "file_extension": ".py",
   "mimetype": "text/x-python",
   "name": "python",
   "nbconvert_exporter": "python",
   "pygments_lexer": "ipython3",
   "version": "3.10.6"
  }
 },
 "nbformat": 4,
 "nbformat_minor": 5
}
